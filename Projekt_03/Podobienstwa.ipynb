{
 "cells": [
  {
   "cell_type": "code",
   "execution_count": 1,
   "id": "3ee63647-f2e7-4407-b099-3363d424e389",
   "metadata": {
    "tags": []
   },
   "outputs": [],
   "source": [
    "import os\n",
    "import cv2\n",
    "import numpy as np\n",
    "from skimage.metrics import structural_similarity as ssim\n",
    "import random"
   ]
  },
  {
   "cell_type": "code",
   "execution_count": 2,
   "id": "2c4f09ec-9042-4ecb-aebf-1156f9515028",
   "metadata": {
    "tags": []
   },
   "outputs": [],
   "source": [
    "# Ścieżka do folderu z obrazami\n",
    "folder_path = \"QBIC\""
   ]
  },
  {
   "cell_type": "markdown",
   "id": "d75403c6-1250-4104-a698-6e218242c1bd",
   "metadata": {
    "tags": []
   },
   "source": [
    "## 1. SSIM"
   ]
  },
  {
   "cell_type": "code",
   "execution_count": 4,
   "id": "81085505-1533-440b-81d3-cbaa05c98674",
   "metadata": {
    "tags": []
   },
   "outputs": [],
   "source": [
    "# Funkcja obliczająca SSIM między dwoma obrazami\n",
    "def calculate_ssim(image1, image2):\n",
    "    gray1 = cv2.cvtColor(image1, cv2.COLOR_BGR2GRAY)\n",
    "    gray2 = cv2.cvtColor(image2, cv2.COLOR_BGR2GRAY)\n",
    "    return ssim(gray1, gray2)"
   ]
  },
  {
   "cell_type": "code",
   "execution_count": 5,
   "id": "1855fb39-9417-4d54-97ff-c6ebf14e6fd9",
   "metadata": {},
   "outputs": [],
   "source": [
    "image_files = [file for file in os.listdir(folder_path) if file.endswith('.jpg')]\n",
    "images = []\n",
    "for image_file in image_files:\n",
    "    image_path = os.path.join(folder_path, image_file)\n",
    "    image = cv2.imread(image_path)\n",
    "    images.append((image, image_file))"
   ]
  },
  {
   "cell_type": "code",
   "execution_count": 6,
   "id": "e94abffa-e431-465f-bcb3-6d3aacf5fc20",
   "metadata": {},
   "outputs": [
    {
     "name": "stdout",
     "output_type": "stream",
     "text": [
      "Wybrano losowy obraz: image041.jpg\n"
     ]
    }
   ],
   "source": [
    "# Losowe wybranie jednego obrazu\n",
    "random_image, random_image_file = random.choice(images)\n",
    "random_image_file = 'image041.jpg'\n",
    "random_image = cv2.imread('QBIC/' + random_image_file)\n",
    "print(\"Wybrano losowy obraz:\", random_image_file)\n",
    "cv2.imshow('Wybrany obraz', random_image)\n",
    "cv2.waitKey(0)\n",
    "cv2.destroyAllWindows()"
   ]
  },
  {
   "cell_type": "code",
   "execution_count": 7,
   "id": "f77b91e5-6922-49f4-96c5-496c73d4bb49",
   "metadata": {
    "tags": []
   },
   "outputs": [],
   "source": [
    "# Obliczenie SSIM dla wszystkich obrazów i wybranie 10 najbardziej podobnych\n",
    "similar_images = []\n",
    "for image, image_file in images:\n",
    "    #if image_file != random_image_file:\n",
    "    similarity = calculate_ssim(random_image, image)\n",
    "    similar_images.append((image_file, similarity))"
   ]
  },
  {
   "cell_type": "code",
   "execution_count": 8,
   "id": "a6f1f396-3d93-4c1d-a750-a3551672064f",
   "metadata": {
    "tags": []
   },
   "outputs": [
    {
     "name": "stdout",
     "output_type": "stream",
     "text": [
      "\n",
      "10 najbardziej podobnych obrazów:\n",
      "Obraz: image041.jpg, SSIM: 1.0000\n",
      "Obraz: image098.jpg, SSIM: 0.2633\n",
      "Obraz: image024.jpg, SSIM: 0.2629\n",
      "Obraz: image093.jpg, SSIM: 0.2561\n",
      "Obraz: image025.jpg, SSIM: 0.2541\n"
     ]
    }
   ],
   "source": [
    "# Wybierz 10 najbardziej podobnych obrazów\n",
    "most_similar = sorted(similar_images, key=lambda x: x[1], reverse=True)[:5]\n",
    "\n",
    "# Wyświetl wyniki\n",
    "print(\"\\n10 najbardziej podobnych obrazów:\")\n",
    "for similar_image, similarity in most_similar:\n",
    "    print(f\"Obraz: {similar_image}, SSIM: {similarity:.4f}\")\n",
    "    image_to_show = cv2.imread(folder_path + \"/\" + similar_image)\n",
    "    cv2.imshow('Obraz podobny: ', image_to_show)\n",
    "    cv2.waitKey(0)\n",
    "    cv2.destroyAllWindows()"
   ]
  },
  {
   "cell_type": "markdown",
   "id": "f75f7c34-c6e0-492e-931f-bdc5691b72ba",
   "metadata": {},
   "source": [
    "## 2. Metoda prosta MAE"
   ]
  },
  {
   "cell_type": "code",
   "execution_count": 10,
   "id": "b2bc8652-52e8-40b5-8665-f9963c108306",
   "metadata": {
    "tags": []
   },
   "outputs": [],
   "source": [
    "# Wczytanie wszystkich obrazów do listy\n",
    "image_files = [file for file in os.listdir(folder_path) if file.endswith('.jpg')]\n",
    "images = []\n",
    "for image_file in image_files:\n",
    "    image_path = os.path.join(folder_path, image_file)\n",
    "    image = cv2.imread(image_path)\n",
    "    images.append((image, image_file))"
   ]
  },
  {
   "cell_type": "code",
   "execution_count": 11,
   "id": "76452885-5277-4f33-a9cd-85a84b068f98",
   "metadata": {},
   "outputs": [
    {
     "name": "stdout",
     "output_type": "stream",
     "text": [
      "Wybrano losowy obraz: image041.jpg\n"
     ]
    }
   ],
   "source": [
    "for image, image_file in images:\n",
    "    if image_file == random_image_file:\n",
    "        random_image = image\n",
    "        break\n",
    "print(\"Wybrano losowy obraz:\", random_image_file)"
   ]
  },
  {
   "cell_type": "code",
   "execution_count": 12,
   "id": "1fa06129-9cfa-4aad-b719-ea8ffbc4bbee",
   "metadata": {},
   "outputs": [],
   "source": [
    "# Obliczenie MAE dla wszystkich obrazów i wybranie 10 najbardziej podobnych\n",
    "similar_images = []\n",
    "for image, image_file in images:\n",
    "    #if image_file != random_image_file:\n",
    "    mae = np.mean(np.abs(random_image.astype(np.float32) - image.astype(np.float32)))\n",
    "    similar_images.append((image_file, mae))"
   ]
  },
  {
   "cell_type": "code",
   "execution_count": 13,
   "id": "c25aa7ba-f917-4e8a-8b63-09241e57e979",
   "metadata": {
    "tags": []
   },
   "outputs": [
    {
     "name": "stdout",
     "output_type": "stream",
     "text": [
      "\n",
      "10 najbardziej podobnych obrazów (według MAE):\n",
      "Obraz: image041.jpg, MAE: 0.0\n",
      "Obraz: image042.jpg, MAE: 53.13999938964844\n",
      "Obraz: image043.jpg, MAE: 55.61000061035156\n",
      "Obraz: image045.jpg, MAE: 56.939998626708984\n",
      "Obraz: image048.jpg, MAE: 57.459999084472656\n"
     ]
    }
   ],
   "source": [
    "# Wybierz 10 najmniej różniących się obrazów\n",
    "most_similar = sorted(similar_images, key=lambda x: x[1])[:5]\n",
    "\n",
    "# Wyświetl wyniki\n",
    "print(\"\\n10 najbardziej podobnych obrazów (według MAE):\")\n",
    "for similar_image, mae in most_similar:\n",
    "    print(f\"Obraz: {similar_image}, MAE: {round(mae, 2)}\")\n",
    "    image_to_show = cv2.imread(folder_path + \"/\" + similar_image)\n",
    "    cv2.imshow('Obraz podobny: ', image_to_show)\n",
    "    cv2.waitKey(0)\n",
    "    cv2.destroyAllWindows()"
   ]
  },
  {
   "cell_type": "code",
   "execution_count": null,
   "id": "9da3d632-21e4-41fd-b1c7-53362864453d",
   "metadata": {},
   "outputs": [],
   "source": []
  }
 ],
 "metadata": {
  "kernelspec": {
   "display_name": "Python 3 (ipykernel)",
   "language": "python",
   "name": "python3"
  },
  "language_info": {
   "codemirror_mode": {
    "name": "ipython",
    "version": 3
   },
   "file_extension": ".py",
   "mimetype": "text/x-python",
   "name": "python",
   "nbconvert_exporter": "python",
   "pygments_lexer": "ipython3",
   "version": "3.11.7"
  }
 },
 "nbformat": 4,
 "nbformat_minor": 5
}

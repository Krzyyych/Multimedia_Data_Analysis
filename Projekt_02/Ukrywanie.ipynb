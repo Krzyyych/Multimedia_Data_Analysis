{
 "cells": [
  {
   "cell_type": "code",
   "execution_count": 1,
   "id": "7640b832-2cf2-40b4-9da6-e238beabf224",
   "metadata": {},
   "outputs": [],
   "source": [
    "from PIL import Image\n",
    "import cv2\n",
    "import matplotlib.pyplot as plt\n",
    "import numpy as np\n",
    "import os"
   ]
  },
  {
   "cell_type": "code",
   "execution_count": 2,
   "id": "3fb79fd5-7319-460e-973a-2c07d7096803",
   "metadata": {},
   "outputs": [],
   "source": [
    "def resize_images(image1_path, image2_path):\n",
    "    image_1 = cv2.imread(image1_path)\n",
    "    image_2 = cv2.imread(image2_path)\n",
    "    return image_1, cv2.resize(image_2, (image_1.shape[1], image_1.shape[0]))"
   ]
  },
  {
   "cell_type": "code",
   "execution_count": 3,
   "id": "e61c7539-2fc3-47a5-9919-09140bf2b340",
   "metadata": {},
   "outputs": [],
   "source": [
    "def hide_image(original_image, hidden_image, bytes_to_use):\n",
    "    if bytes_to_use == 2:\n",
    "        hidden_mask = 0b11000000\n",
    "        original_mask = 0b11111100\n",
    "    elif bytes_to_use == 3:\n",
    "        hidden_mask = 0b11100000\n",
    "        original_mask = 0b11111000\n",
    "    elif bytes_to_use == 4:\n",
    "        hidden_mask = 0b11110000\n",
    "        original_mask = 0b11110000\n",
    "    else:\n",
    "        return\n",
    "    \n",
    "    shift_bytes = 8 - bytes_to_use\n",
    "\n",
    "    new_image = np.zeros_like(original_image)\n",
    "    for i in range(original_image.shape[0]):\n",
    "            for j in range(original_image.shape[1]):\n",
    "                for k in range(3):\n",
    "                    original_pixel_nulled = (original_image[i][j][k] & original_mask)\n",
    "                    hidden_pixel_shifted = (hidden_image[i][j][k] & hidden_mask) >> shift_bytes\n",
    "                    new_image[i][j][k] = original_pixel_nulled | hidden_pixel_shifted\n",
    "    \n",
    "    return new_image\n",
    "\n",
    "def extract_image(image, bytes_to_use):\n",
    "    if bytes_to_use == 2:\n",
    "        mask = 0b00000011\n",
    "    elif bytes_to_use == 3:\n",
    "        mask = 0b00000111\n",
    "    elif bytes_to_use == 4:\n",
    "        mask = 0b00001111\n",
    "    shift_bytes = 8 - bytes_to_use\n",
    "    extracted_image = np.zeros_like(image)\n",
    "    for i in range(extracted_image.shape[0]):\n",
    "            for j in range(extracted_image.shape[1]):\n",
    "                for k in range(3):  \n",
    "                    hidden_pixel_shifted = (image[i][j][k] & mask) << shift_bytes\n",
    "                    extracted_image[i][j][k] = hidden_pixel_shifted\n",
    "                    \n",
    "    return extracted_image"
   ]
  },
  {
   "cell_type": "code",
   "execution_count": 4,
   "id": "496fd1bd-b750-4b5d-8e76-ad4685798989",
   "metadata": {},
   "outputs": [],
   "source": [
    "# Przykładowe użycie\n",
    "image1_path = \"autumn.tif\"\n",
    "image2_path = \"bali.tif\"\n",
    "container, hidden = resize_images(image1_path, image2_path)\n",
    "\n",
    "container_LSB4 = hide_image(container.copy(), hidden, 4)\n",
    "extracted_LSB4 = extract_image(container_LSB4, 4)\n",
    "\n",
    "container_LSB3 = hide_image(container.copy(), hidden, 3)\n",
    "extracted_LSB3 = extract_image(container_LSB3, 3)\n",
    "\n",
    "container_LSB2 = hide_image(container.copy(), hidden, 2)\n",
    "extracted_LSB2 = extract_image(container_LSB2, 2)"
   ]
  },
  {
   "cell_type": "code",
   "execution_count": 5,
   "id": "f49209f7-718f-4a88-a18b-8602738e8c5f",
   "metadata": {},
   "outputs": [
    {
     "data": {
      "text/plain": [
       "True"
      ]
     },
     "execution_count": 5,
     "metadata": {},
     "output_type": "execute_result"
    }
   ],
   "source": [
    "cv2.imwrite(r'container_LSB4.jpg', container_LSB4)\n",
    "cv2.imwrite(r'extracted_LSB4.jpg', extracted_LSB4)\n",
    "cv2.imwrite(r'container_LSB3.jpg', container_LSB3)\n",
    "cv2.imwrite(r'extracted_LSB3.jpg', extracted_LSB3)\n",
    "cv2.imwrite(r'container_LSB2.jpg', container_LSB2)\n",
    "cv2.imwrite(r'extracted_LSB2.jpg', extracted_LSB2)"
   ]
  },
  {
   "cell_type": "code",
   "execution_count": 6,
   "id": "88d30772-91af-4fc9-b910-d973d294c211",
   "metadata": {},
   "outputs": [],
   "source": [
    "def calculate_normalized_absolute_error(original_image, changed_image):\n",
    "    diff_image = np.sqrt((original_image[:,:,0].astype(float) - changed_image[:,:,0].astype(float))**2 + \\\n",
    "                     (original_image[:,:,1].astype(float) - changed_image[:,:,1].astype(float))**2 + \\\n",
    "                     (original_image[:,:,2].astype(float) - changed_image[:,:,2].astype(float))**2)\n",
    "    M, N, L = original_image.shape\n",
    "\n",
    "    result = np.sum(diff_image) / (M * N)\n",
    "    return result"
   ]
  },
  {
   "cell_type": "code",
   "execution_count": 7,
   "id": "b04691db-311b-4a53-a174-e65e67ff9871",
   "metadata": {},
   "outputs": [
    {
     "name": "stdout",
     "output_type": "stream",
     "text": [
      "Quality for LSB2: 57.57\n",
      "Quality for LSB3: 29.32\n",
      "Quality for LSB4: 13.67\n"
     ]
    }
   ],
   "source": [
    "print(\"Quality for LSB2:\", round(calculate_normalized_absolute_error(hidden, extracted_LSB2), 2))\n",
    "print(\"Quality for LSB3:\", round(calculate_normalized_absolute_error(hidden, extracted_LSB3), 2))\n",
    "print(\"Quality for LSB4:\", round(calculate_normalized_absolute_error(hidden, extracted_LSB4), 2))"
   ]
  },
  {
   "cell_type": "code",
   "execution_count": null,
   "id": "8fce606d-b2ca-4ea0-81e2-7958ace871bb",
   "metadata": {},
   "outputs": [],
   "source": []
  },
  {
   "cell_type": "code",
   "execution_count": null,
   "id": "9567756b-6463-4b2d-90d7-21f1d78f0e30",
   "metadata": {},
   "outputs": [],
   "source": []
  }
 ],
 "metadata": {
  "kernelspec": {
   "display_name": "Python 3 (ipykernel)",
   "language": "python",
   "name": "python3"
  },
  "language_info": {
   "codemirror_mode": {
    "name": "ipython",
    "version": 3
   },
   "file_extension": ".py",
   "mimetype": "text/x-python",
   "name": "python",
   "nbconvert_exporter": "python",
   "pygments_lexer": "ipython3",
   "version": "3.11.7"
  }
 },
 "nbformat": 4,
 "nbformat_minor": 5
}
